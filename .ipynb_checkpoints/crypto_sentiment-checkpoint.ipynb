{
 "cells": [
  {
   "cell_type": "markdown",
   "metadata": {},
   "source": [
    "# Unit 12 - Tales from the Crypto\n",
    "\n",
    "---\n"
   ]
  },
  {
   "cell_type": "markdown",
   "metadata": {},
   "source": [
    "## 1. Sentiment Analysis\n",
    "\n",
    "Use the [newsapi](https://newsapi.org/) to pull the latest news articles for Bitcoin and Ethereum and create a DataFrame of sentiment scores for each coin.\n",
    "\n",
    "Use descriptive statistics to answer the following questions:\n",
    "1. Which coin had the highest mean positive score?\n",
    "2. Which coin had the highest negative score?\n",
    "3. Which coin had the highest positive score?"
   ]
  },
  {
   "cell_type": "code",
   "execution_count": 7,
   "metadata": {},
   "outputs": [
    {
     "name": "stderr",
     "output_type": "stream",
     "text": [
      "[nltk_data] Downloading package vader_lexicon to\n",
      "[nltk_data]     C:\\Users\\akgoel\\AppData\\Roaming\\nltk_data...\n",
      "[nltk_data]   Package vader_lexicon is already up-to-date!\n"
     ]
    }
   ],
   "source": [
    "# Initial imports\n",
    "import os\n",
    "import pandas as pd\n",
    "from dotenv import load_dotenv\n",
    "import nltk as nltk\n",
    "nltk.download('vader_lexicon')\n",
    "from nltk.sentiment.vader import SentimentIntensityAnalyzer\n",
    "analyzer = SentimentIntensityAnalyzer()\n",
    "\n",
    "%matplotlib inline"
   ]
  },
  {
   "cell_type": "code",
   "execution_count": 8,
   "metadata": {},
   "outputs": [],
   "source": [
    "# Read your api key environment variable\n",
    "load_dotenv()\n",
    "api_key = os.getenv(\"news_api\")"
   ]
  },
  {
   "cell_type": "code",
   "execution_count": 9,
   "metadata": {},
   "outputs": [],
   "source": [
    "# Create a newsapi client\n",
    "from newsapi import NewsApiClient\n",
    "newsapi = NewsApiClient(api_key=api_key)"
   ]
  },
  {
   "cell_type": "code",
   "execution_count": 17,
   "metadata": {},
   "outputs": [],
   "source": [
    "# Fetch the most relevant 100 Bitcoin news articles for the last 2 weeks from 5/25-6/8 2021\n",
    "btc_articles = newsapi.get_everything(\n",
    "    q=\"bitcoin\",\n",
    "    language=\"en\",\n",
    "    sort_by=\"relevancy\",\n",
    "    from_param=\"2021-05-25\",\n",
    "    page_size=100\n",
    ")"
   ]
  },
  {
   "cell_type": "code",
   "execution_count": 20,
   "metadata": {},
   "outputs": [],
   "source": [
    "# Fetch the most relevant 100 Ethereum news articles for the last 2 weeks from 5/25-6/8 2021\n",
    "eth_articles = newsapi.get_everything(\n",
    "    q=\"ethereum\",\n",
    "    language=\"en\",\n",
    "    sort_by=\"relevancy\",\n",
    "    from_param=\"2021-05-25\",\n",
    "    page_size=100\n",
    ")"
   ]
  },
  {
   "cell_type": "code",
   "execution_count": 22,
   "metadata": {
    "tags": []
   },
   "outputs": [
    {
     "data": {
      "text/plain": [
       "{'source': {'id': 'reuters', 'name': 'Reuters'},\n",
       " 'author': 'Reuters',\n",
       " 'title': 'Ethereum extends gains to rise 8%; bitcoin firms - Reuters',\n",
       " 'description': 'Cryptocurrency Ethereum extended gains to rise more than 8% on Monday to $2,587 but remained 40% below a record high of above $4,300 hit earlier this month.',\n",
       " 'url': 'https://www.reuters.com/technology/ethereum-rises-5-2509-bitcoin-firm-2021-05-31/',\n",
       " 'urlToImage': 'https://www.reuters.com/resizer/yeaYVdBQ4_EGCbJU5Z5E6qExbDw=/1200x628/smart/filters:quality(80)/cloudfront-us-east-2.images.arcpublishing.com/reuters/VMU2AOPUXRPU7KWLBR6GOWQHCM.jpg',\n",
       " 'publishedAt': '2021-05-31T12:17:00Z',\n",
       " 'content': 'A representation of virtual currency Ethereum is seen in front of a stock graph in this illustration taken February 19, 2021. REUTERS/Dado Ruvic/Illustration/File PhotoCryptocurrency Ethereum extende… [+1099 chars]'}"
      ]
     },
     "execution_count": 22,
     "metadata": {},
     "output_type": "execute_result"
    }
   ],
   "source": [
    "eth_articles[\"articles\"][0]"
   ]
  },
  {
   "cell_type": "code",
   "execution_count": 35,
   "metadata": {},
   "outputs": [
    {
     "data": {
      "text/html": [
       "<div>\n",
       "<style scoped>\n",
       "    .dataframe tbody tr th:only-of-type {\n",
       "        vertical-align: middle;\n",
       "    }\n",
       "\n",
       "    .dataframe tbody tr th {\n",
       "        vertical-align: top;\n",
       "    }\n",
       "\n",
       "    .dataframe thead th {\n",
       "        text-align: right;\n",
       "    }\n",
       "</style>\n",
       "<table border=\"1\" class=\"dataframe\">\n",
       "  <thead>\n",
       "    <tr style=\"text-align: right;\">\n",
       "      <th></th>\n",
       "      <th>text</th>\n",
       "      <th>date</th>\n",
       "      <th>compound</th>\n",
       "      <th>positive</th>\n",
       "      <th>negative</th>\n",
       "      <th>neutral</th>\n",
       "    </tr>\n",
       "  </thead>\n",
       "  <tbody>\n",
       "    <tr>\n",
       "      <th>0</th>\n",
       "      <td>Hello friends, and welcome back to Week in Rev...</td>\n",
       "      <td>2021-06-05</td>\n",
       "      <td>0.7500</td>\n",
       "      <td>0.154</td>\n",
       "      <td>0.000</td>\n",
       "      <td>0.846</td>\n",
       "    </tr>\n",
       "    <tr>\n",
       "      <th>1</th>\n",
       "      <td>In spite of the environmental and regulatory i...</td>\n",
       "      <td>2021-05-27</td>\n",
       "      <td>-0.5267</td>\n",
       "      <td>0.000</td>\n",
       "      <td>0.096</td>\n",
       "      <td>0.904</td>\n",
       "    </tr>\n",
       "    <tr>\n",
       "      <th>2</th>\n",
       "      <td>By Mary-Ann RussonBusiness reporter, BBC News\\...</td>\n",
       "      <td>2021-06-08</td>\n",
       "      <td>0.3400</td>\n",
       "      <td>0.070</td>\n",
       "      <td>0.000</td>\n",
       "      <td>0.930</td>\n",
       "    </tr>\n",
       "    <tr>\n",
       "      <th>3</th>\n",
       "      <td>The ban affects licensed and unlicensed miners...</td>\n",
       "      <td>2021-05-26</td>\n",
       "      <td>-0.5574</td>\n",
       "      <td>0.000</td>\n",
       "      <td>0.107</td>\n",
       "      <td>0.893</td>\n",
       "    </tr>\n",
       "    <tr>\n",
       "      <th>4</th>\n",
       "      <td>After years of hesitation, PayPal continues to...</td>\n",
       "      <td>2021-05-27</td>\n",
       "      <td>-0.2732</td>\n",
       "      <td>0.000</td>\n",
       "      <td>0.062</td>\n",
       "      <td>0.938</td>\n",
       "    </tr>\n",
       "  </tbody>\n",
       "</table>\n",
       "</div>"
      ],
      "text/plain": [
       "                                                text        date  compound  \\\n",
       "0  Hello friends, and welcome back to Week in Rev...  2021-06-05    0.7500   \n",
       "1  In spite of the environmental and regulatory i...  2021-05-27   -0.5267   \n",
       "2  By Mary-Ann RussonBusiness reporter, BBC News\\...  2021-06-08    0.3400   \n",
       "3  The ban affects licensed and unlicensed miners...  2021-05-26   -0.5574   \n",
       "4  After years of hesitation, PayPal continues to...  2021-05-27   -0.2732   \n",
       "\n",
       "   positive  negative  neutral  \n",
       "0     0.154     0.000    0.846  \n",
       "1     0.000     0.096    0.904  \n",
       "2     0.070     0.000    0.930  \n",
       "3     0.000     0.107    0.893  \n",
       "4     0.000     0.062    0.938  "
      ]
     },
     "execution_count": 35,
     "metadata": {},
     "output_type": "execute_result"
    }
   ],
   "source": [
    "# Create the Bitcoin sentiment scores DataFrame\n",
    "btc_sentiments = []\n",
    "for article in btc_articles[\"articles\"]:\n",
    "    try:\n",
    "        text = article[\"content\"]\n",
    "        date = article[\"publishedAt\"][:10]\n",
    "        sentiment = analyzer.polarity_scores(text)\n",
    "        compound = sentiment[\"compound\"]        \n",
    "        pos = sentiment[\"pos\"]\n",
    "        neu = sentiment[\"neu\"]\n",
    "        neg = sentiment[\"neg\"]\n",
    "        \n",
    "        btc_sentiments.append({\n",
    "            \"text\": text,\n",
    "            \"date\": date,\n",
    "            \"compound\": compound,\n",
    "            \"positive\": pos,\n",
    "            \"negative\": neg,\n",
    "            \"neutral\": neu\n",
    "        })\n",
    "    except AttributeError:\n",
    "        pass\n",
    "\n",
    "btc_df = pd.DataFrame(btc_sentiments)\n",
    "btc_df.head()"
   ]
  },
  {
   "cell_type": "code",
   "execution_count": 36,
   "metadata": {},
   "outputs": [
    {
     "data": {
      "text/html": [
       "<div>\n",
       "<style scoped>\n",
       "    .dataframe tbody tr th:only-of-type {\n",
       "        vertical-align: middle;\n",
       "    }\n",
       "\n",
       "    .dataframe tbody tr th {\n",
       "        vertical-align: top;\n",
       "    }\n",
       "\n",
       "    .dataframe thead th {\n",
       "        text-align: right;\n",
       "    }\n",
       "</style>\n",
       "<table border=\"1\" class=\"dataframe\">\n",
       "  <thead>\n",
       "    <tr style=\"text-align: right;\">\n",
       "      <th></th>\n",
       "      <th>text</th>\n",
       "      <th>date</th>\n",
       "      <th>compound</th>\n",
       "      <th>positive</th>\n",
       "      <th>negative</th>\n",
       "      <th>neutral</th>\n",
       "    </tr>\n",
       "  </thead>\n",
       "  <tbody>\n",
       "    <tr>\n",
       "      <th>0</th>\n",
       "      <td>A representation of virtual currency Ethereum ...</td>\n",
       "      <td>2021-05-31</td>\n",
       "      <td>0.0000</td>\n",
       "      <td>0.000</td>\n",
       "      <td>0.000</td>\n",
       "      <td>1.000</td>\n",
       "    </tr>\n",
       "    <tr>\n",
       "      <th>1</th>\n",
       "      <td>This new mining feature is called 'Norton Cryp...</td>\n",
       "      <td>2021-06-03</td>\n",
       "      <td>0.0000</td>\n",
       "      <td>0.000</td>\n",
       "      <td>0.000</td>\n",
       "      <td>1.000</td>\n",
       "    </tr>\n",
       "    <tr>\n",
       "      <th>2</th>\n",
       "      <td>\"We are building a team\" the page declares, st...</td>\n",
       "      <td>2021-05-27</td>\n",
       "      <td>0.6705</td>\n",
       "      <td>0.188</td>\n",
       "      <td>0.000</td>\n",
       "      <td>0.812</td>\n",
       "    </tr>\n",
       "    <tr>\n",
       "      <th>3</th>\n",
       "      <td>Opinions expressed by Entrepreneur contributor...</td>\n",
       "      <td>2021-05-31</td>\n",
       "      <td>0.1280</td>\n",
       "      <td>0.051</td>\n",
       "      <td>0.000</td>\n",
       "      <td>0.949</td>\n",
       "    </tr>\n",
       "    <tr>\n",
       "      <th>4</th>\n",
       "      <td>CryptoPunks represent the only historically re...</td>\n",
       "      <td>2021-06-04</td>\n",
       "      <td>-0.4588</td>\n",
       "      <td>0.067</td>\n",
       "      <td>0.151</td>\n",
       "      <td>0.782</td>\n",
       "    </tr>\n",
       "  </tbody>\n",
       "</table>\n",
       "</div>"
      ],
      "text/plain": [
       "                                                text        date  compound  \\\n",
       "0  A representation of virtual currency Ethereum ...  2021-05-31    0.0000   \n",
       "1  This new mining feature is called 'Norton Cryp...  2021-06-03    0.0000   \n",
       "2  \"We are building a team\" the page declares, st...  2021-05-27    0.6705   \n",
       "3  Opinions expressed by Entrepreneur contributor...  2021-05-31    0.1280   \n",
       "4  CryptoPunks represent the only historically re...  2021-06-04   -0.4588   \n",
       "\n",
       "   positive  negative  neutral  \n",
       "0     0.000     0.000    1.000  \n",
       "1     0.000     0.000    1.000  \n",
       "2     0.188     0.000    0.812  \n",
       "3     0.051     0.000    0.949  \n",
       "4     0.067     0.151    0.782  "
      ]
     },
     "execution_count": 36,
     "metadata": {},
     "output_type": "execute_result"
    }
   ],
   "source": [
    "# Create the Ethereum sentiment scores DataFrame\n",
    "eth_sentiments = []\n",
    "for article in eth_articles[\"articles\"]:\n",
    "    try:\n",
    "        text = article[\"content\"]\n",
    "        date = article[\"publishedAt\"][:10]\n",
    "        sentiment = analyzer.polarity_scores(text)\n",
    "        compound = sentiment[\"compound\"]        \n",
    "        pos = sentiment[\"pos\"]\n",
    "        neu = sentiment[\"neu\"]\n",
    "        neg = sentiment[\"neg\"]\n",
    "        \n",
    "        eth_sentiments.append({\n",
    "            \"text\": text,\n",
    "            \"date\": date,\n",
    "            \"compound\": compound,\n",
    "            \"positive\": pos,\n",
    "            \"negative\": neg,\n",
    "            \"neutral\": neu\n",
    "        })\n",
    "    except AttributeError:\n",
    "        pass\n",
    "\n",
    "eth_df = pd.DataFrame(eth_sentiments)\n",
    "eth_df.head()"
   ]
  },
  {
   "cell_type": "code",
   "execution_count": 28,
   "metadata": {},
   "outputs": [
    {
     "data": {
      "text/html": [
       "<div>\n",
       "<style scoped>\n",
       "    .dataframe tbody tr th:only-of-type {\n",
       "        vertical-align: middle;\n",
       "    }\n",
       "\n",
       "    .dataframe tbody tr th {\n",
       "        vertical-align: top;\n",
       "    }\n",
       "\n",
       "    .dataframe thead th {\n",
       "        text-align: right;\n",
       "    }\n",
       "</style>\n",
       "<table border=\"1\" class=\"dataframe\">\n",
       "  <thead>\n",
       "    <tr style=\"text-align: right;\">\n",
       "      <th></th>\n",
       "      <th>compound</th>\n",
       "      <th>positive</th>\n",
       "      <th>negative</th>\n",
       "      <th>neutral</th>\n",
       "    </tr>\n",
       "  </thead>\n",
       "  <tbody>\n",
       "    <tr>\n",
       "      <th>count</th>\n",
       "      <td>100.000000</td>\n",
       "      <td>100.00000</td>\n",
       "      <td>100.000000</td>\n",
       "      <td>100.000000</td>\n",
       "    </tr>\n",
       "    <tr>\n",
       "      <th>mean</th>\n",
       "      <td>0.128253</td>\n",
       "      <td>0.05951</td>\n",
       "      <td>0.027570</td>\n",
       "      <td>0.912930</td>\n",
       "    </tr>\n",
       "    <tr>\n",
       "      <th>std</th>\n",
       "      <td>0.368170</td>\n",
       "      <td>0.06921</td>\n",
       "      <td>0.049981</td>\n",
       "      <td>0.085346</td>\n",
       "    </tr>\n",
       "    <tr>\n",
       "      <th>min</th>\n",
       "      <td>-0.750600</td>\n",
       "      <td>0.00000</td>\n",
       "      <td>0.000000</td>\n",
       "      <td>0.582000</td>\n",
       "    </tr>\n",
       "    <tr>\n",
       "      <th>25%</th>\n",
       "      <td>0.000000</td>\n",
       "      <td>0.00000</td>\n",
       "      <td>0.000000</td>\n",
       "      <td>0.853000</td>\n",
       "    </tr>\n",
       "    <tr>\n",
       "      <th>50%</th>\n",
       "      <td>0.000000</td>\n",
       "      <td>0.05150</td>\n",
       "      <td>0.000000</td>\n",
       "      <td>0.926000</td>\n",
       "    </tr>\n",
       "    <tr>\n",
       "      <th>75%</th>\n",
       "      <td>0.386825</td>\n",
       "      <td>0.09825</td>\n",
       "      <td>0.057500</td>\n",
       "      <td>1.000000</td>\n",
       "    </tr>\n",
       "    <tr>\n",
       "      <th>max</th>\n",
       "      <td>0.921700</td>\n",
       "      <td>0.35100</td>\n",
       "      <td>0.262000</td>\n",
       "      <td>1.000000</td>\n",
       "    </tr>\n",
       "  </tbody>\n",
       "</table>\n",
       "</div>"
      ],
      "text/plain": [
       "         compound   positive    negative     neutral\n",
       "count  100.000000  100.00000  100.000000  100.000000\n",
       "mean     0.128253    0.05951    0.027570    0.912930\n",
       "std      0.368170    0.06921    0.049981    0.085346\n",
       "min     -0.750600    0.00000    0.000000    0.582000\n",
       "25%      0.000000    0.00000    0.000000    0.853000\n",
       "50%      0.000000    0.05150    0.000000    0.926000\n",
       "75%      0.386825    0.09825    0.057500    1.000000\n",
       "max      0.921700    0.35100    0.262000    1.000000"
      ]
     },
     "execution_count": 28,
     "metadata": {},
     "output_type": "execute_result"
    }
   ],
   "source": [
    "# Describe the Bitcoin Sentiment\n",
    "btc_df.describe()"
   ]
  },
  {
   "cell_type": "code",
   "execution_count": 29,
   "metadata": {},
   "outputs": [
    {
     "data": {
      "text/html": [
       "<div>\n",
       "<style scoped>\n",
       "    .dataframe tbody tr th:only-of-type {\n",
       "        vertical-align: middle;\n",
       "    }\n",
       "\n",
       "    .dataframe tbody tr th {\n",
       "        vertical-align: top;\n",
       "    }\n",
       "\n",
       "    .dataframe thead th {\n",
       "        text-align: right;\n",
       "    }\n",
       "</style>\n",
       "<table border=\"1\" class=\"dataframe\">\n",
       "  <thead>\n",
       "    <tr style=\"text-align: right;\">\n",
       "      <th></th>\n",
       "      <th>compound</th>\n",
       "      <th>positive</th>\n",
       "      <th>negative</th>\n",
       "      <th>neutral</th>\n",
       "    </tr>\n",
       "  </thead>\n",
       "  <tbody>\n",
       "    <tr>\n",
       "      <th>count</th>\n",
       "      <td>100.000000</td>\n",
       "      <td>100.000000</td>\n",
       "      <td>100.00000</td>\n",
       "      <td>100.000000</td>\n",
       "    </tr>\n",
       "    <tr>\n",
       "      <th>mean</th>\n",
       "      <td>0.224866</td>\n",
       "      <td>0.083490</td>\n",
       "      <td>0.02820</td>\n",
       "      <td>0.888300</td>\n",
       "    </tr>\n",
       "    <tr>\n",
       "      <th>std</th>\n",
       "      <td>0.393903</td>\n",
       "      <td>0.068916</td>\n",
       "      <td>0.05300</td>\n",
       "      <td>0.081151</td>\n",
       "    </tr>\n",
       "    <tr>\n",
       "      <th>min</th>\n",
       "      <td>-0.757900</td>\n",
       "      <td>0.000000</td>\n",
       "      <td>0.00000</td>\n",
       "      <td>0.655000</td>\n",
       "    </tr>\n",
       "    <tr>\n",
       "      <th>25%</th>\n",
       "      <td>0.000000</td>\n",
       "      <td>0.000000</td>\n",
       "      <td>0.00000</td>\n",
       "      <td>0.844250</td>\n",
       "    </tr>\n",
       "    <tr>\n",
       "      <th>50%</th>\n",
       "      <td>0.282100</td>\n",
       "      <td>0.074500</td>\n",
       "      <td>0.00000</td>\n",
       "      <td>0.899500</td>\n",
       "    </tr>\n",
       "    <tr>\n",
       "      <th>75%</th>\n",
       "      <td>0.536525</td>\n",
       "      <td>0.125750</td>\n",
       "      <td>0.04275</td>\n",
       "      <td>0.938000</td>\n",
       "    </tr>\n",
       "    <tr>\n",
       "      <th>max</th>\n",
       "      <td>0.858100</td>\n",
       "      <td>0.252000</td>\n",
       "      <td>0.26200</td>\n",
       "      <td>1.000000</td>\n",
       "    </tr>\n",
       "  </tbody>\n",
       "</table>\n",
       "</div>"
      ],
      "text/plain": [
       "         compound    positive   negative     neutral\n",
       "count  100.000000  100.000000  100.00000  100.000000\n",
       "mean     0.224866    0.083490    0.02820    0.888300\n",
       "std      0.393903    0.068916    0.05300    0.081151\n",
       "min     -0.757900    0.000000    0.00000    0.655000\n",
       "25%      0.000000    0.000000    0.00000    0.844250\n",
       "50%      0.282100    0.074500    0.00000    0.899500\n",
       "75%      0.536525    0.125750    0.04275    0.938000\n",
       "max      0.858100    0.252000    0.26200    1.000000"
      ]
     },
     "execution_count": 29,
     "metadata": {},
     "output_type": "execute_result"
    }
   ],
   "source": [
    "# Describe the Ethereum Sentiment\n",
    "eth_df.describe()"
   ]
  },
  {
   "cell_type": "markdown",
   "metadata": {},
   "source": [
    "### Questions:\n",
    "\n",
    "Q: Which coin had the highest mean positive score?\n",
    "\n",
    "A: Ethereum had the highest mean positive score with 0.08349 compared to Bitcoin at 0.05951\n",
    "\n",
    "Q: Which coin had the highest compound score?\n",
    "\n",
    "A: Ethereum had the highest mean compound score at 0.224866 compared to Bitcoin at 0.128253. However, Bitcoin had the highest/max compound score at 0.9127, compared to Ethereum at 0.8581.\n",
    "\n",
    "Q. Which coin had the highest positive score?\n",
    "\n",
    "A: Ethereum had the hightest mean positive score of 0.08349 compared to Bitcoin at 0.05951. However, Bitcoin had the highest/max positive score of 0.351 compared to Ethereum at 0.252."
   ]
  },
  {
   "cell_type": "markdown",
   "metadata": {},
   "source": [
    "---"
   ]
  },
  {
   "cell_type": "markdown",
   "metadata": {},
   "source": [
    "## 2. Natural Language Processing\n",
    "---\n",
    "###   Tokenizer\n",
    "\n",
    "In this section, you will use NLTK and Python to tokenize the text for each coin. Be sure to:\n",
    "1. Lowercase each word.\n",
    "2. Remove Punctuation.\n",
    "3. Remove Stopwords."
   ]
  },
  {
   "cell_type": "code",
   "execution_count": 30,
   "metadata": {},
   "outputs": [],
   "source": [
    "from nltk.tokenize import word_tokenize, sent_tokenize\n",
    "from nltk.corpus import stopwords\n",
    "from nltk.stem import WordNetLemmatizer, PorterStemmer\n",
    "from string import punctuation\n",
    "import re"
   ]
  },
  {
   "cell_type": "code",
   "execution_count": 31,
   "metadata": {},
   "outputs": [
    {
     "name": "stderr",
     "output_type": "stream",
     "text": [
      "[nltk_data] Downloading package stopwords to\n",
      "[nltk_data]     C:\\Users\\akgoel\\AppData\\Roaming\\nltk_data...\n",
      "[nltk_data]   Package stopwords is already up-to-date!\n"
     ]
    }
   ],
   "source": [
    "# Instantiate the lemmatizer\n",
    "lemmatizer = WordNetLemmatizer()\n",
    "\n",
    "# Create a list of stopwords\n",
    "import nltk\n",
    "nltk.download(\"stopwords\")\n",
    "sw = set(stopwords.words('english'))\n",
    "\n",
    "# Expand the default stopwords list if necessary\n",
    "sw_addons = {'said', 'sent', 'found', 'including', 'today', 'announced', 'week', 'basically', 'also'}\n",
    "sw = sw.union(sw_addons)"
   ]
  },
  {
   "cell_type": "code",
   "execution_count": 38,
   "metadata": {},
   "outputs": [],
   "source": [
    "# Complete the tokenizer function\n",
    "regex = re.compile(\"[^a-zA-Z ]\")\n",
    "def tokenizer(text):\n",
    "    \"\"\"Tokenizes text.\"\"\"\n",
    "    \n",
    "    # Remove the punctuation from text\n",
    "    re_clean = regex.sub('', text)\n",
    "   \n",
    "    # Create a tokenized list of the words\n",
    "    words = word_tokenize(re_clean)\n",
    "    \n",
    "    # Lemmatize words into root words\n",
    "    lem = [lemmatizer.lemmatize(word) for word in words]\n",
    "   \n",
    "    # Convert the words to lowercase\n",
    "    lc = [word.lower() for word in lem]\n",
    "    \n",
    "    # Remove the stop words\n",
    "    tokens = [word for word in lc if word not in sw]\n",
    "    \n",
    "    return tokens"
   ]
  },
  {
   "cell_type": "code",
   "execution_count": 40,
   "metadata": {},
   "outputs": [
    {
     "data": {
      "text/html": [
       "<div>\n",
       "<style scoped>\n",
       "    .dataframe tbody tr th:only-of-type {\n",
       "        vertical-align: middle;\n",
       "    }\n",
       "\n",
       "    .dataframe tbody tr th {\n",
       "        vertical-align: top;\n",
       "    }\n",
       "\n",
       "    .dataframe thead th {\n",
       "        text-align: right;\n",
       "    }\n",
       "</style>\n",
       "<table border=\"1\" class=\"dataframe\">\n",
       "  <thead>\n",
       "    <tr style=\"text-align: right;\">\n",
       "      <th></th>\n",
       "      <th>text</th>\n",
       "      <th>date</th>\n",
       "      <th>compound</th>\n",
       "      <th>positive</th>\n",
       "      <th>negative</th>\n",
       "      <th>neutral</th>\n",
       "      <th>tokens</th>\n",
       "    </tr>\n",
       "  </thead>\n",
       "  <tbody>\n",
       "    <tr>\n",
       "      <th>0</th>\n",
       "      <td>Hello friends, and welcome back to Week in Rev...</td>\n",
       "      <td>2021-06-05</td>\n",
       "      <td>0.7500</td>\n",
       "      <td>0.154</td>\n",
       "      <td>0.000</td>\n",
       "      <td>0.846</td>\n",
       "      <td>[hello, friend, welcome, back, reviewlast, wro...</td>\n",
       "    </tr>\n",
       "    <tr>\n",
       "      <th>1</th>\n",
       "      <td>In spite of the environmental and regulatory i...</td>\n",
       "      <td>2021-05-27</td>\n",
       "      <td>-0.5267</td>\n",
       "      <td>0.000</td>\n",
       "      <td>0.096</td>\n",
       "      <td>0.904</td>\n",
       "      <td>[spite, environmental, regulatory, ill, genera...</td>\n",
       "    </tr>\n",
       "    <tr>\n",
       "      <th>2</th>\n",
       "      <td>By Mary-Ann RussonBusiness reporter, BBC News\\...</td>\n",
       "      <td>2021-06-08</td>\n",
       "      <td>0.3400</td>\n",
       "      <td>0.070</td>\n",
       "      <td>0.000</td>\n",
       "      <td>0.930</td>\n",
       "      <td>[maryann, russonbusiness, reporter, bbc, newsi...</td>\n",
       "    </tr>\n",
       "    <tr>\n",
       "      <th>3</th>\n",
       "      <td>The ban affects licensed and unlicensed miners...</td>\n",
       "      <td>2021-05-26</td>\n",
       "      <td>-0.5574</td>\n",
       "      <td>0.000</td>\n",
       "      <td>0.107</td>\n",
       "      <td>0.893</td>\n",
       "      <td>[ban, affect, licensed, unlicensed, miner, ali...</td>\n",
       "    </tr>\n",
       "    <tr>\n",
       "      <th>4</th>\n",
       "      <td>After years of hesitation, PayPal continues to...</td>\n",
       "      <td>2021-05-27</td>\n",
       "      <td>-0.2732</td>\n",
       "      <td>0.000</td>\n",
       "      <td>0.062</td>\n",
       "      <td>0.938</td>\n",
       "      <td>[year, hesitation, paypal, continues, double, ...</td>\n",
       "    </tr>\n",
       "  </tbody>\n",
       "</table>\n",
       "</div>"
      ],
      "text/plain": [
       "                                                text        date  compound  \\\n",
       "0  Hello friends, and welcome back to Week in Rev...  2021-06-05    0.7500   \n",
       "1  In spite of the environmental and regulatory i...  2021-05-27   -0.5267   \n",
       "2  By Mary-Ann RussonBusiness reporter, BBC News\\...  2021-06-08    0.3400   \n",
       "3  The ban affects licensed and unlicensed miners...  2021-05-26   -0.5574   \n",
       "4  After years of hesitation, PayPal continues to...  2021-05-27   -0.2732   \n",
       "\n",
       "   positive  negative  neutral  \\\n",
       "0     0.154     0.000    0.846   \n",
       "1     0.000     0.096    0.904   \n",
       "2     0.070     0.000    0.930   \n",
       "3     0.000     0.107    0.893   \n",
       "4     0.000     0.062    0.938   \n",
       "\n",
       "                                              tokens  \n",
       "0  [hello, friend, welcome, back, reviewlast, wro...  \n",
       "1  [spite, environmental, regulatory, ill, genera...  \n",
       "2  [maryann, russonbusiness, reporter, bbc, newsi...  \n",
       "3  [ban, affect, licensed, unlicensed, miner, ali...  \n",
       "4  [year, hesitation, paypal, continues, double, ...  "
      ]
     },
     "execution_count": 40,
     "metadata": {},
     "output_type": "execute_result"
    }
   ],
   "source": [
    "# Create a new tokens column for Bitcoin\n",
    "btc_df['tokens'] = btc_df['text'].apply(tokenizer)\n",
    "btc_df.head()"
   ]
  },
  {
   "cell_type": "code",
   "execution_count": 41,
   "metadata": {},
   "outputs": [
    {
     "data": {
      "text/html": [
       "<div>\n",
       "<style scoped>\n",
       "    .dataframe tbody tr th:only-of-type {\n",
       "        vertical-align: middle;\n",
       "    }\n",
       "\n",
       "    .dataframe tbody tr th {\n",
       "        vertical-align: top;\n",
       "    }\n",
       "\n",
       "    .dataframe thead th {\n",
       "        text-align: right;\n",
       "    }\n",
       "</style>\n",
       "<table border=\"1\" class=\"dataframe\">\n",
       "  <thead>\n",
       "    <tr style=\"text-align: right;\">\n",
       "      <th></th>\n",
       "      <th>text</th>\n",
       "      <th>date</th>\n",
       "      <th>compound</th>\n",
       "      <th>positive</th>\n",
       "      <th>negative</th>\n",
       "      <th>neutral</th>\n",
       "      <th>tokens</th>\n",
       "    </tr>\n",
       "  </thead>\n",
       "  <tbody>\n",
       "    <tr>\n",
       "      <th>0</th>\n",
       "      <td>A representation of virtual currency Ethereum ...</td>\n",
       "      <td>2021-05-31</td>\n",
       "      <td>0.0000</td>\n",
       "      <td>0.000</td>\n",
       "      <td>0.000</td>\n",
       "      <td>1.000</td>\n",
       "      <td>[representation, virtual, currency, ethereum, ...</td>\n",
       "    </tr>\n",
       "    <tr>\n",
       "      <th>1</th>\n",
       "      <td>This new mining feature is called 'Norton Cryp...</td>\n",
       "      <td>2021-06-03</td>\n",
       "      <td>0.0000</td>\n",
       "      <td>0.000</td>\n",
       "      <td>0.000</td>\n",
       "      <td>1.000</td>\n",
       "      <td>[new, mining, feature, called, norton, crypto,...</td>\n",
       "    </tr>\n",
       "    <tr>\n",
       "      <th>2</th>\n",
       "      <td>\"We are building a team\" the page declares, st...</td>\n",
       "      <td>2021-05-27</td>\n",
       "      <td>0.6705</td>\n",
       "      <td>0.188</td>\n",
       "      <td>0.000</td>\n",
       "      <td>0.812</td>\n",
       "      <td>[building, team, page, declares, stating, welc...</td>\n",
       "    </tr>\n",
       "    <tr>\n",
       "      <th>3</th>\n",
       "      <td>Opinions expressed by Entrepreneur contributor...</td>\n",
       "      <td>2021-05-31</td>\n",
       "      <td>0.1280</td>\n",
       "      <td>0.051</td>\n",
       "      <td>0.000</td>\n",
       "      <td>0.949</td>\n",
       "      <td>[opinions, expressed, entrepreneur, contributo...</td>\n",
       "    </tr>\n",
       "    <tr>\n",
       "      <th>4</th>\n",
       "      <td>CryptoPunks represent the only historically re...</td>\n",
       "      <td>2021-06-04</td>\n",
       "      <td>-0.4588</td>\n",
       "      <td>0.067</td>\n",
       "      <td>0.151</td>\n",
       "      <td>0.782</td>\n",
       "      <td>[cryptopunks, represent, historically, relevan...</td>\n",
       "    </tr>\n",
       "  </tbody>\n",
       "</table>\n",
       "</div>"
      ],
      "text/plain": [
       "                                                text        date  compound  \\\n",
       "0  A representation of virtual currency Ethereum ...  2021-05-31    0.0000   \n",
       "1  This new mining feature is called 'Norton Cryp...  2021-06-03    0.0000   \n",
       "2  \"We are building a team\" the page declares, st...  2021-05-27    0.6705   \n",
       "3  Opinions expressed by Entrepreneur contributor...  2021-05-31    0.1280   \n",
       "4  CryptoPunks represent the only historically re...  2021-06-04   -0.4588   \n",
       "\n",
       "   positive  negative  neutral  \\\n",
       "0     0.000     0.000    1.000   \n",
       "1     0.000     0.000    1.000   \n",
       "2     0.188     0.000    0.812   \n",
       "3     0.051     0.000    0.949   \n",
       "4     0.067     0.151    0.782   \n",
       "\n",
       "                                              tokens  \n",
       "0  [representation, virtual, currency, ethereum, ...  \n",
       "1  [new, mining, feature, called, norton, crypto,...  \n",
       "2  [building, team, page, declares, stating, welc...  \n",
       "3  [opinions, expressed, entrepreneur, contributo...  \n",
       "4  [cryptopunks, represent, historically, relevan...  "
      ]
     },
     "execution_count": 41,
     "metadata": {},
     "output_type": "execute_result"
    }
   ],
   "source": [
    "# Create a new tokens column for Ethereum\n",
    "eth_df['tokens'] = eth_df['text'].apply(tokenizer)\n",
    "eth_df.head()"
   ]
  },
  {
   "cell_type": "markdown",
   "metadata": {},
   "source": [
    "---"
   ]
  },
  {
   "cell_type": "markdown",
   "metadata": {},
   "source": [
    "### NGrams and Frequency Analysis\n",
    "\n",
    "In this section you will look at the ngrams and word frequency for each coin. \n",
    "\n",
    "1. Use NLTK to produce the n-grams for N = 2. \n",
    "2. List the top 10 words for each coin. "
   ]
  },
  {
   "cell_type": "code",
   "execution_count": 42,
   "metadata": {},
   "outputs": [],
   "source": [
    "from collections import Counter\n",
    "from nltk import ngrams"
   ]
  },
  {
   "cell_type": "code",
   "execution_count": 53,
   "metadata": {},
   "outputs": [
    {
     "name": "stdout",
     "output_type": "stream",
     "text": [
      "{('illustration', 'taken'): 13, ('virtual', 'currency'): 12, ('currency', 'bitcoin'): 9, ('char', 'reuters'): 8, ('char', 'opinions'): 8, ('opinions', 'expressed'): 8, ('expressed', 'entrepreneur'): 8, ('entrepreneur', 'contributor'): 8, ('seen', 'front'): 7, ('char', 'representations'): 6, ('picture', 'illustration'): 6, ('char', 'representation'): 6, ('representation', 'virtual'): 6, ('via', 'getty'): 6, ('like', 'bitcoin'): 5, ('bitcoin', 'seen'): 5, ('front', 'stock'): 5, ('stock', 'graph'): 5, ('graph', 'illustration'): 5, ('elon', 'musk'): 5, ('may', 'reuters'): 5, ('representations', 'virtual'): 4, ('taken', 'may'): 4, ('may', 'reutersdado'): 4, ('char', 'bitcoin'): 4, ('taken', 'january'): 4, ('january', 'reutersdado'): 4, ('illustration', 'picture'): 4, ('taken', 'june'): 4, ('bitcoin', 'mining'): 4, ('cryptocurrencies', 'like'): 4, ('crypto', 'market'): 4, ('cryptocurrency', 'mining'): 3, ('bitcoin', 'stand'): 3, ('stand', 'motherboard'): 3, ('motherboard', 'picture'): 3, ('reutersdado', 'ruvicillustrationfile'): 3, ('stock', 'market'): 3, ('char', 'cryptocurrencies'): 3, ('cryptocurrencies', 'bitcoin'): 3, ('president', 'nayib'): 3, ('nayib', 'bukele'): 3, ('el', 'salvadors'): 3, ('bitcoin', 'cryptocurrency'): 3, ('colonial', 'pipeline'): 3, ('front', 'image'): 3, ('flag', 'illustration'): 3, ('reutersdado', 'ruvicfile'): 3, ('crackdown', 'beijing'): 3, ('beijing', 'rapidly'): 3, ('rapidly', 'accelerating'): 3, ('accelerating', 'shift'): 3, ('shift', 'focus'): 3, ('focus', 'maker'): 3, ('maker', 'machine'): 3, ('machine', 'mine'): 3, ('mine', 'cryptocurrencies'): 3, ('bitcoin', 'china'): 3, ('china', 'north'): 3, ('north', 'america'): 3, ('char', 'article'): 3, ('article', 'wa'): 3, ('wa', 'translated'): 3, ('translated', 'spanish'): 3, ('spanish', 'edition'): 3, ('edition', 'using'): 3, ('using', 'ai'): 3, ('ai', 'technology'): 3, ('technology', 'errors'): 3, ('errors', 'may'): 3, ('may', 'exist'): 3, ('exist', 'due'): 3, ('bitcoin', 'sign'): 2, ('sign', 'held'): 2, ('held', 'outside'): 2, ('outside', 'hong'): 2, ('hong', 'kongs'): 2, ('kongs', 'first'): 2, ('first', 'bitcoin'): 2, ('bitcoin', 'retail'): 2, ('retail', 'store'): 2, ('store', 'opening'): 2, ('want', 'make'): 2, ('may', 'want'): 2, ('char', 'story'): 2, ('story', 'originally'): 2, ('originally', 'appeared'): 2, ('reutersdado', 'ruvicbitcoin'): 2, ('us', 'justice'): 2, ('reuters', 'bitcoin'): 2, ('slumped', 'friday'): 2, ('friday', 'lowest'): 2, ('lowest', 'taking'): 2, ('us', 'dollar'): 2, ('dollar', 'banknote'): 2, ('lo', 'char'): 2, ('climbed', 'back'): 2, ('back', 'wednesday'): 2, ('salvadors', 'president'): 2, ('reuters', 'stafflondon'): 2}\n"
     ]
    }
   ],
   "source": [
    "# Generate the Bitcoin N-grams where N=2\n",
    "# First, combine all tokens in all the articles in the DataFrame prior to counting n-grams\n",
    "all_btc_tokens = []\n",
    "for tokens in btc_df[\"tokens\"]:\n",
    "    all_btc_tokens += tokens\n",
    "btc_bigrams = ngrams(all_btc_tokens, n=2)\n",
    "top_100_btc_bigrams = dict(Counter(btc_bigrams).most_common(100))\n",
    "print(top_100_btc_bigrams)"
   ]
  },
  {
   "cell_type": "code",
   "execution_count": 54,
   "metadata": {},
   "outputs": [
    {
     "name": "stdout",
     "output_type": "stream",
     "text": [
      "{('char', 'opinions'): 12, ('opinions', 'expressed'): 12, ('expressed', 'entrepreneur'): 12, ('entrepreneur', 'contributor'): 12, ('elon', 'musk'): 5, ('virtual', 'currency'): 4, ('illustration', 'taken'): 4, ('crypto', 'market'): 4, ('rtx', 'ti'): 4, ('representation', 'virtual'): 3, ('seen', 'front'): 3, ('front', 'stock'): 3, ('stock', 'graph'): 3, ('graph', 'illustration'): 3, ('nonfungible', 'token'): 3, ('mark', 'cuban'): 3, ('stock', 'market'): 3, ('digital', 'yuan'): 3, ('digital', 'currency'): 3, ('via', 'getty'): 3, ('representations', 'cryptocurrencies'): 3, ('cryptocurrencies', 'bitcoin'): 3, ('bitcoin', 'dash'): 3, ('dash', 'ethereum'): 3, ('ethereum', 'ripple'): 3, ('ripple', 'litecoin'): 3, ('litecoin', 'seen'): 3, ('seen', 'illustration'): 3, ('illustration', 'picture'): 3, ('picture', 'taken'): 3, ('taken', 'june'): 3, ('june', 'reutersflorence'): 3, ('currency', 'bitcoin'): 3, ('char', 'representations'): 3, ('char', 'cryptocurrency'): 3, ('digital', 'asset'): 3, ('char', 'bitcoin'): 3, ('bitcoin', 'price'): 3, ('ethereum', 'seen'): 2, ('char', 'new'): 2, ('mining', 'feature'): 2, ('norton', 'crypto'): 2, ('tweet', 'char'): 2, ('cuban', 'ha'): 2, ('qian', 'former'): 2, ('former', 'head'): 2, ('head', 'chinas'): 2, ('chinas', 'digital'): 2, ('blockchain', 'network'): 2, ('nft', 'world'): 2, ('access', 'nft'): 2, ('nft', 'marketplace'): 2, ('th', 'char'): 2, ('char', 'reuters'): 2, ('may', 'reuters'): 2, ('slipped', 'thursday'): 2, ('thursday', 'though'): 2, ('char', 'representation'): 2, ('bitcoin', 'seen'): 2, ('taken', 'january'): 2, ('january', 'reutersdado'): 2, ('market', 'seeing'): 2, ('token', 'nfts'): 2, ('char', 'almost'): 2, ('eth', 'node'): 2, ('popular', 'cryptocurrencies'): 2, ('last', 'year'): 2, ('user', 'withdraw'): 2, ('thirdparty', 'wallet'): 2, ('wallet', 'company'): 2, ('ha', 'surged'): 2, ('cryptocurrencies', 'like'): 2, ('bitcoin', 'ethereum'): 2, ('world', 'equity'): 2, ('equity', 'set'): 2, ('set', 'post'): 2, ('post', 'fourth'): 2, ('fourth', 'consecutive'): 2, ('consecutive', 'month'): 2, ('month', 'gain'): 2, ('cryptocurrency', 'market'): 2, ('market', 'ha'): 2, ('elon', 'musks'): 2, ('symantec', 'ha'): 2, ('char', 'image'): 2, ('image', 'copyrightgetty'): 2, ('copyrightgetty', 'imagesin'): 2, ('imagesin', 'surprise'): 2, ('surprise', 'move'): 2, ('move', 'one'): 2, ('one', 'world'): 2, ('world', 'bestknown'): 2, ('bestknown', 'antivirus'): 2, ('antivirus', 'software'): 2, ('software', 'maker'): 2, ('maker', 'adding'): 2, ('adding', 'cryptocurrency'): 2, ('cryptocurrency', 'mining'): 2, ('mining', 'product'): 2, ('product', 'norton'): 2}\n"
     ]
    }
   ],
   "source": [
    "# Generate the Ethereum N-grams where N=2\n",
    "all_eth_tokens = []\n",
    "for tokens in eth_df[\"tokens\"]:\n",
    "    all_eth_tokens += tokens\n",
    "eth_bigrams = ngrams(all_eth_tokens, n=2)\n",
    "top_100_eth_bigrams = dict(Counter(eth_bigrams).most_common(100))\n",
    "print(top_100_eth_bigrams)"
   ]
  },
  {
   "cell_type": "code",
   "execution_count": 55,
   "metadata": {},
   "outputs": [],
   "source": [
    "# Function token_count generates the top 10 words for a given coin\n",
    "def token_count(tokens, N=3):\n",
    "    \"\"\"Returns the top N tokens from the frequency count\"\"\"\n",
    "    return Counter(tokens).most_common(N)"
   ]
  },
  {
   "cell_type": "code",
   "execution_count": 57,
   "metadata": {},
   "outputs": [
    {
     "name": "stdout",
     "output_type": "stream",
     "text": [
      "[('char', 99), ('bitcoin', 58), ('cryptocurrency', 22), ('may', 21), ('reuters', 19), ('illustration', 17), ('currency', 16), ('taken', 15), ('cryptocurrencies', 15), ('us', 14)]\n"
     ]
    }
   ],
   "source": [
    "# Use token_count to get the top 10 words for Bitcoin\n",
    "btc_cnt = Counter(all_btc_tokens).most_common(10)\n",
    "print(btc_cnt)"
   ]
  },
  {
   "cell_type": "code",
   "execution_count": 58,
   "metadata": {},
   "outputs": [
    {
     "name": "stdout",
     "output_type": "stream",
     "text": [
      "[('char', 100), ('ha', 27), ('cryptocurrency', 24), ('crypto', 21), ('bitcoin', 19), ('cryptocurrencies', 19), ('ethereum', 18), ('market', 18), ('entrepreneur', 14), ('world', 14)]\n"
     ]
    }
   ],
   "source": [
    "# Use token_count to get the top 10 words for Ethereum\n",
    "eth_cnt = Counter(all_eth_tokens).most_common(10)\n",
    "print(eth_cnt)"
   ]
  },
  {
   "cell_type": "markdown",
   "metadata": {},
   "source": [
    "---"
   ]
  },
  {
   "cell_type": "markdown",
   "metadata": {},
   "source": [
    "### Word Clouds\n",
    "\n",
    "In this section, you will generate word clouds for each coin to summarize the news for each coin"
   ]
  },
  {
   "cell_type": "code",
   "execution_count": 21,
   "metadata": {},
   "outputs": [],
   "source": [
    "from wordcloud import WordCloud\n",
    "import matplotlib.pyplot as plt\n",
    "plt.style.use('seaborn-whitegrid')\n",
    "import matplotlib as mpl\n",
    "mpl.rcParams['figure.figsize'] = [20.0, 10.0]"
   ]
  },
  {
   "cell_type": "code",
   "execution_count": 22,
   "metadata": {},
   "outputs": [],
   "source": [
    "# Generate the Bitcoin word cloud\n"
   ]
  },
  {
   "cell_type": "code",
   "execution_count": 23,
   "metadata": {},
   "outputs": [],
   "source": [
    "# Generate the Ethereum word cloud\n",
    "# YOUR CODE HERE!"
   ]
  },
  {
   "cell_type": "markdown",
   "metadata": {},
   "source": [
    "---\n",
    "## 3. Named Entity Recognition\n",
    "\n",
    "In this section, you will build a named entity recognition model for both Bitcoin and Ethereum, then visualize the tags using SpaCy."
   ]
  },
  {
   "cell_type": "code",
   "execution_count": 24,
   "metadata": {},
   "outputs": [],
   "source": [
    "import spacy\n",
    "from spacy import displacy"
   ]
  },
  {
   "cell_type": "code",
   "execution_count": 25,
   "metadata": {},
   "outputs": [],
   "source": [
    "# Download the language model for SpaCy\n",
    "# !python -m spacy download en_core_web_sm"
   ]
  },
  {
   "cell_type": "code",
   "execution_count": 26,
   "metadata": {},
   "outputs": [],
   "source": [
    "# Load the spaCy model\n",
    "nlp = spacy.load('en_core_web_sm')"
   ]
  },
  {
   "cell_type": "markdown",
   "metadata": {},
   "source": [
    "---\n",
    "### Bitcoin NER"
   ]
  },
  {
   "cell_type": "code",
   "execution_count": 27,
   "metadata": {},
   "outputs": [],
   "source": [
    "# Concatenate all of the Bitcoin text together\n",
    "# YOUR CODE HERE!"
   ]
  },
  {
   "cell_type": "code",
   "execution_count": 28,
   "metadata": {},
   "outputs": [],
   "source": [
    "# Run the NER processor on all of the text\n",
    "# YOUR CODE HERE!\n",
    "\n",
    "# Add a title to the document\n",
    "# YOUR CODE HERE!"
   ]
  },
  {
   "cell_type": "code",
   "execution_count": 29,
   "metadata": {},
   "outputs": [],
   "source": [
    "# Render the visualization\n",
    "# YOUR CODE HERE!"
   ]
  },
  {
   "cell_type": "code",
   "execution_count": 30,
   "metadata": {},
   "outputs": [],
   "source": [
    "# List all Entities\n",
    "# YOUR CODE HERE!"
   ]
  },
  {
   "cell_type": "markdown",
   "metadata": {},
   "source": [
    "---"
   ]
  },
  {
   "cell_type": "markdown",
   "metadata": {},
   "source": [
    "### Ethereum NER"
   ]
  },
  {
   "cell_type": "code",
   "execution_count": 31,
   "metadata": {},
   "outputs": [],
   "source": [
    "# Concatenate all of the Ethereum text together\n",
    "# YOUR CODE HERE!"
   ]
  },
  {
   "cell_type": "code",
   "execution_count": 32,
   "metadata": {},
   "outputs": [],
   "source": [
    "# Run the NER processor on all of the text\n",
    "# YOUR CODE HERE!\n",
    "\n",
    "# Add a title to the document\n",
    "# YOUR CODE HERE!"
   ]
  },
  {
   "cell_type": "code",
   "execution_count": 33,
   "metadata": {},
   "outputs": [],
   "source": [
    "# Render the visualization\n",
    "# YOUR CODE HERE!"
   ]
  },
  {
   "cell_type": "code",
   "execution_count": 34,
   "metadata": {},
   "outputs": [],
   "source": [
    "# List all Entities\n",
    "# YOUR CODE HERE!"
   ]
  },
  {
   "cell_type": "markdown",
   "metadata": {},
   "source": [
    "---"
   ]
  }
 ],
 "metadata": {
  "file_extension": ".py",
  "kernelspec": {
   "display_name": "Python 3",
   "language": "python",
   "name": "python3"
  },
  "language_info": {
   "codemirror_mode": {
    "name": "ipython",
    "version": 3
   },
   "file_extension": ".py",
   "mimetype": "text/x-python",
   "name": "python",
   "nbconvert_exporter": "python",
   "pygments_lexer": "ipython3",
   "version": "3.7.9"
  },
  "mimetype": "text/x-python",
  "name": "python",
  "npconvert_exporter": "python",
  "pygments_lexer": "ipython3",
  "version": 3
 },
 "nbformat": 4,
 "nbformat_minor": 4
}
